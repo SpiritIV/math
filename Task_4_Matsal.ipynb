{
 "cells": [
  {
   "cell_type": "code",
   "execution_count": 1,
   "metadata": {},
   "outputs": [
    {
     "name": "stdout",
     "output_type": "stream",
     "text": [
      "-2.7020613733260403\n"
     ]
    }
   ],
   "source": [
    "from math import sin, cos\n",
    "from typing import Callable\n",
    "import unittest\n",
    "\n",
    "def newton(f: Callable[[float], float], f_prime: Callable[[float], float], x0: float, \n",
    "    eps: float=1e-7, kmax: int=1e3) -> float:\n",
    "    \n",
    "    x, x_prev, i = x0, x0 + 2 * eps, 0\n",
    "    \n",
    "    while abs(x - x_prev) >= eps and i < kmax:\n",
    "        x, x_prev, i = x - f(x) / f_prime(x), x, i + 1\n",
    "\n",
    "    return x\n",
    "\n",
    "def f(x: float) -> float:\n",
    "    return sin(x)-x/4-1/4\n",
    "\n",
    "def f_prime(x: float) -> float:\n",
    "    return cos(x)-1/4\n",
    "\n",
    "x0=100\n",
    "\n",
    "print (newton(f, f_prime, x0))"
   ]
  },
  {
   "cell_type": "code",
   "execution_count": 2,
   "metadata": {},
   "outputs": [
    {
     "name": "stdout",
     "output_type": "stream",
     "text": [
      "1.0 1.0\n"
     ]
    }
   ],
   "source": [
    "###### import numpy as np\n",
    "from scipy.optimize import fsolve, broyden1\n",
    "import math\n",
    "\n",
    "def equations(p):\n",
    "    x, y = p\n",
    "    # Запись системы уравнения вида x+y=2, x-y=0\n",
    "    return (x+y-2, x-y)\n",
    "\n",
    "# Численное решение нелинечной системы уравнений\n",
    "x, y =  fsolve(equations, (10, 10))\n",
    "print (x, y)\n"
   ]
  },
  {
   "cell_type": "code",
   "execution_count": 22,
   "metadata": {},
   "outputs": [
    {
     "name": "stdout",
     "output_type": "stream",
     "text": [
      "[-0.3365890712737709, 1.375687140379588, 2.2177536387752523]\n",
      "[-1.166910235474678, 1.6620391224278988, 0.6101939797346798]\n"
     ]
    }
   ],
   "source": [
    "###### import numpy as np\n",
    "from scipy.optimize import fsolve, broyden1\n",
    "import math\n",
    "\n",
    "def equations(p):\n",
    "    x, y = p\n",
    "    # Запись системы уравнения вида x+y=2, x-y=0\n",
    "    return (pow(x,2)-pow(y,2)+3*x*pow(y,3)-2*pow(x,2)*pow(y,2)+2*x-3*y-5, 3*pow(y,3)-2*pow(x,2)+2*pow(x,3)*y-5*pow(x,2)*pow(y,2)+5)\n",
    "\n",
    "# Численное решение нелинечной системы уравнений\n",
    "\n",
    "x_temp = []\n",
    "y_temp = []\n",
    "\n",
    "for i in range(-100, 100): \n",
    "    (x, y), info, ier, mesg =  fsolve(equations, (i, i), full_output=True)\n",
    "    x_temp.append(x)\n",
    "    y_temp.append(y)\n",
    "\n",
    "def get_des(local_list):\n",
    "    result = []\n",
    "    for i in range(0, len(local_list)):\n",
    "        for k in range(i + 1, len(x_temp)):\n",
    "            if abs(abs(local_list[i]) - abs(local_list[k])) < 0.3:\n",
    "                local_list[k] = 0\n",
    "    for item in local_list:\n",
    "        if item != 0:\n",
    "            result.append(item)\n",
    "    \n",
    "    return result\n",
    "\n",
    "print (get_des(x_temp))\n",
    "print (get_des(y_temp))"
   ]
  },
  {
   "cell_type": "code",
   "execution_count": null,
   "metadata": {},
   "outputs": [],
   "source": []
  },
  {
   "cell_type": "code",
   "execution_count": null,
   "metadata": {},
   "outputs": [],
   "source": []
  }
 ],
 "metadata": {
  "kernelspec": {
   "display_name": "Python 3",
   "language": "python",
   "name": "python3"
  },
  "language_info": {
   "codemirror_mode": {
    "name": "ipython",
    "version": 3
   },
   "file_extension": ".py",
   "mimetype": "text/x-python",
   "name": "python",
   "nbconvert_exporter": "python",
   "pygments_lexer": "ipython3",
   "version": "3.7.4"
  }
 },
 "nbformat": 4,
 "nbformat_minor": 2
}
