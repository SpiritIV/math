{
 "cells": [
  {
   "cell_type": "markdown",
   "metadata": {},
   "source": [
    "Практическое задание №7"
   ]
  },
  {
   "cell_type": "markdown",
   "metadata": {},
   "source": [
    "Задание 1."
   ]
  },
  {
   "cell_type": "code",
   "execution_count": 18,
   "metadata": {},
   "outputs": [],
   "source": [
    "import numpy as np"
   ]
  },
  {
   "cell_type": "code",
   "execution_count": 19,
   "metadata": {},
   "outputs": [],
   "source": [
    "zp = np.array([35, 45, 190, 200, 40, 70, 54, 150, 120, 110])\n",
    "ks = np.array([401, 574, 874, 919, 459, 739, 653, 902, 746, 832])"
   ]
  },
  {
   "cell_type": "code",
   "execution_count": 20,
   "metadata": {},
   "outputs": [],
   "source": [
    "b = (np.std(zp*ks) - np.std(zp) * np.std(ks)) / (np.std(zp * zp) - pow(np.std(zp), 2))\n",
    "a = np.std(ks) - b * np.std(zp)"
   ]
  },
  {
   "cell_type": "code",
   "execution_count": 21,
   "metadata": {},
   "outputs": [
    {
     "name": "stdout",
     "output_type": "stream",
     "text": [
      "y = -107.09 * x + 4.76\n"
     ]
    }
   ],
   "source": [
    "print(f'y = {round(a, 2)} * x + {round(b, 2)}')"
   ]
  },
  {
   "cell_type": "markdown",
   "metadata": {},
   "source": [
    "Задание 2, 4."
   ]
  },
  {
   "cell_type": "code",
   "execution_count": 22,
   "metadata": {},
   "outputs": [],
   "source": [
    "def mse_(B1, B2, y=ks, x=zp, n=8):\n",
    "    return np.sum((B2 + B1*x - y) ** 2) / n"
   ]
  },
  {
   "cell_type": "code",
   "execution_count": 23,
   "metadata": {},
   "outputs": [],
   "source": [
    "#mse_p_b1 = (2/n) * np.sum((B2 + B1 * X - y) * X)\n",
    "#mse_p_b2 = (1/n) * np.sum((B2 + B1 * X - y))"
   ]
  },
  {
   "cell_type": "code",
   "execution_count": 24,
   "metadata": {},
   "outputs": [],
   "source": [
    "B1 = 0.1\n",
    "B2 = 0.1\n",
    "alpha = 1e-6\n",
    "n = 8\n",
    "x = zp\n",
    "y = ks"
   ]
  },
  {
   "cell_type": "code",
   "execution_count": 40,
   "metadata": {},
   "outputs": [
    {
     "name": "stdout",
     "output_type": "stream",
     "text": [
      "          B1        B2\n",
      "0   5.868290  0.143166\n",
      "1   5.868995  0.143309\n",
      "2   5.869676  0.143452\n",
      "3   5.870333  0.143595\n",
      "4   5.870968  0.143738\n",
      "5   5.871581  0.143881\n",
      "6   5.872173  0.144024\n",
      "7   5.872744  0.144167\n",
      "8   5.873296  0.144310\n",
      "9   5.873828  0.144453\n",
      "10  5.874342  0.144595\n",
      "11  5.874839  0.144738\n",
      "12  5.875318  0.144880\n",
      "13  5.875781  0.145023\n",
      "14  5.876228  0.145165\n",
      "15  5.876659  0.145307\n",
      "16  5.877076  0.145450\n",
      "17  5.877478  0.145592\n",
      "18  5.877866  0.145734\n",
      "19  5.878241  0.145876\n"
     ]
    }
   ],
   "source": [
    "import pandas as pd\n",
    "dict = {'B1':[], 'B2':[]}\n",
    "ind = []\n",
    "\n",
    "for i in range(20):\n",
    "    index.append(i)\n",
    "    B1 -= alpha * (2/n) * np.sum((B2 + B1 * x - y) * x)\n",
    "    B2 -= alpha * (1/n) * np.sum((B2 + B1 * x - y))\n",
    "    dict['B1'].append(B1)\n",
    "    dict['B2'].append(B2)\n",
    "\n",
    "k = pd.DataFrame(dict)\n",
    "print(k)"
   ]
  },
  {
   "cell_type": "code",
   "execution_count": 16,
   "metadata": {},
   "outputs": [
    {
     "name": "stdout",
     "output_type": "stream",
     "text": [
      "y = 1.81 * x + 0.11\n"
     ]
    }
   ],
   "source": [
    "print(f'y = {round(B1, 2)} * x + {round(B2, 2)}')"
   ]
  },
  {
   "cell_type": "markdown",
   "metadata": {},
   "source": [
    "Задание 3."
   ]
  },
  {
   "cell_type": "markdown",
   "metadata": {},
   "source": [
    "Известна сигма -> Таблица Лапласа\n",
    "Неизвестна сигма -> Таблица коэффициентов Стьюдента"
   ]
  },
  {
   "cell_type": "code",
   "execution_count": null,
   "metadata": {},
   "outputs": [],
   "source": []
  }
 ],
 "metadata": {
  "kernelspec": {
   "display_name": "Python 3",
   "language": "python",
   "name": "python3"
  },
  "language_info": {
   "codemirror_mode": {
    "name": "ipython",
    "version": 3
   },
   "file_extension": ".py",
   "mimetype": "text/x-python",
   "name": "python",
   "nbconvert_exporter": "python",
   "pygments_lexer": "ipython3",
   "version": "3.7.7"
  }
 },
 "nbformat": 4,
 "nbformat_minor": 4
}
