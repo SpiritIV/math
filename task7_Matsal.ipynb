{
 "cells": [
  {
   "cell_type": "markdown",
   "metadata": {},
   "source": [
    "Практическое задание №7"
   ]
  },
  {
   "cell_type": "markdown",
   "metadata": {},
   "source": [
    "Задание 1."
   ]
  },
  {
   "cell_type": "code",
   "execution_count": 2,
   "metadata": {},
   "outputs": [],
   "source": [
    "import numpy as np"
   ]
  },
  {
   "cell_type": "code",
   "execution_count": 3,
   "metadata": {},
   "outputs": [],
   "source": [
    "zp = np.array([35, 45, 190, 200, 40, 70, 54, 150, 120, 110])\n",
    "ks = np.array([401, 574, 874, 919, 459, 739, 653, 902, 746, 832])"
   ]
  },
  {
   "cell_type": "code",
   "execution_count": 4,
   "metadata": {},
   "outputs": [],
   "source": [
    "b = (np.mean(zp*ks) - np.mean(zp) * np.mean(ks)) / (np.mean(pow(zp, 2)) - pow(np.mean(zp), 2))\n",
    "a = np.std(ks) - b * np.std(zp)"
   ]
  },
  {
   "cell_type": "code",
   "execution_count": 5,
   "metadata": {},
   "outputs": [
    {
     "name": "stdout",
     "output_type": "stream",
     "text": [
      "y = 2.62 * x + 19.64\n"
     ]
    }
   ],
   "source": [
    "print(f'y = {round(b, 2)} * x + {round(a, 2)}')"
   ]
  },
  {
   "cell_type": "code",
   "execution_count": null,
   "metadata": {},
   "outputs": [],
   "source": [
    "# Решение через матрицы без интерсепта"
   ]
  },
  {
   "cell_type": "code",
   "execution_count": 35,
   "metadata": {},
   "outputs": [
    {
     "data": {
      "text/plain": [
       "array([[5.88982042]])"
      ]
     },
     "execution_count": 35,
     "metadata": {},
     "output_type": "execute_result"
    }
   ],
   "source": [
    "X = zp.reshape((len(zp), 1))\n",
    "Y = ks.reshape((len(ks), 1))\n",
    "\n",
    "B = np.dot(np.linalg.inv(np.dot(X.T,X)), np.dot(X.T,Y))\n",
    "B"
   ]
  },
  {
   "cell_type": "code",
   "execution_count": 36,
   "metadata": {},
   "outputs": [
    {
     "name": "stdout",
     "output_type": "stream",
     "text": [
      "y = 5.89 * x\n"
     ]
    }
   ],
   "source": [
    "print(f'y = {round(B[0][0], 2)} * x')"
   ]
  },
  {
   "cell_type": "code",
   "execution_count": 37,
   "metadata": {},
   "outputs": [
    {
     "data": {
      "text/plain": [
       "array([[444.17735732],\n",
       "       [  2.62053888]])"
      ]
     },
     "execution_count": 37,
     "metadata": {},
     "output_type": "execute_result"
    }
   ],
   "source": [
    "# Решение через матрицы с интерсептом\n",
    "X = zp.reshape((len(zp), 1))\n",
    "Y = ks.reshape((len(ks), 1))\n",
    "X = np.hstack([np.ones((len(zp), 1)), X])\n",
    "\n",
    "B = np.dot(np.linalg.inv(np.dot(X.T,X)), np.dot(X.T,Y))\n",
    "B"
   ]
  },
  {
   "cell_type": "code",
   "execution_count": 38,
   "metadata": {},
   "outputs": [
    {
     "name": "stdout",
     "output_type": "stream",
     "text": [
      "y = 444.18 * x + 2.62\n"
     ]
    }
   ],
   "source": [
    "print(f'y = {round(B[0][0], 2)} * x + {round(B[1,0], 2)}')"
   ]
  },
  {
   "cell_type": "markdown",
   "metadata": {},
   "source": [
    "Задание 2."
   ]
  },
  {
   "cell_type": "code",
   "execution_count": 39,
   "metadata": {},
   "outputs": [],
   "source": [
    "def mse_(B1, y=ks, x=zp, n=8):\n",
    "    return np.sum((B2 + B1*x - y) ** 2) / n"
   ]
  },
  {
   "cell_type": "code",
   "execution_count": 40,
   "metadata": {},
   "outputs": [],
   "source": [
    "B1 = 0.1\n",
    "alpha = 1e-6\n",
    "n = 8\n",
    "x = zp\n",
    "y = ks"
   ]
  },
  {
   "cell_type": "code",
   "execution_count": 41,
   "metadata": {},
   "outputs": [
    {
     "name": "stdout",
     "output_type": "stream",
     "text": [
      "            B1\n",
      "0     0.299410\n",
      "1     0.491952\n",
      "2     0.677863\n",
      "3     0.857371\n",
      "4     1.030696\n",
      "...        ...\n",
      "4995  5.889820\n",
      "4996  5.889820\n",
      "4997  5.889820\n",
      "4998  5.889820\n",
      "4999  5.889820\n",
      "\n",
      "[5000 rows x 1 columns]\n"
     ]
    }
   ],
   "source": [
    "import pandas as pd\n",
    "dict = {'B1':[]}\n",
    "ind = []\n",
    "\n",
    "for i in range(5000):\n",
    "    B1 -= alpha * (2/n) * np.sum((B1 * x - y) * x)\n",
    "    dict['B1'].append(B1)\n",
    "\n",
    "k = pd.DataFrame(dict)\n",
    "print(k)"
   ]
  },
  {
   "cell_type": "markdown",
   "metadata": {},
   "source": [
    "Задание 3."
   ]
  },
  {
   "cell_type": "markdown",
   "metadata": {},
   "source": [
    "Известна сигма -> Таблица Лапласа\n",
    "Неизвестна сигма -> Таблица коэффициентов Стьюдента"
   ]
  },
  {
   "cell_type": "markdown",
   "metadata": {},
   "source": [
    "Задание 4."
   ]
  },
  {
   "cell_type": "code",
   "execution_count": 24,
   "metadata": {},
   "outputs": [],
   "source": [
    "#mse_p_b1 = (2/n) * np.sum((B2 + B1 * X - y) * X)\n",
    "#mse_p_b2 = (2/n) * np.sum((B2 + B1 * X - y))"
   ]
  },
  {
   "cell_type": "code",
   "execution_count": 25,
   "metadata": {},
   "outputs": [],
   "source": [
    "B1 = 0.1\n",
    "B2 = 0.1\n",
    "alpha = 1e-6\n",
    "n = 8\n",
    "x = zp\n",
    "y = ks"
   ]
  },
  {
   "cell_type": "code",
   "execution_count": 29,
   "metadata": {},
   "outputs": [],
   "source": [
    "def mse(B1, B2, y=ks, x=zp, n=8):\n",
    "    return np.sum((B2 + B1*x - y) ** 2) / n"
   ]
  },
  {
   "cell_type": "code",
   "execution_count": 32,
   "metadata": {},
   "outputs": [
    {
     "name": "stdout",
     "output_type": "stream",
     "text": [
      "            B1        B2           mse\n",
      "0     5.229821  0.153916  78078.331049\n",
      "1     5.252514  0.154358  77572.060483\n",
      "2     5.274424  0.154796  77100.059254\n",
      "3     5.295580  0.155228  76660.007316\n",
      "4     5.316008  0.155654  76249.741693\n",
      "...        ...       ...           ...\n",
      "4995  5.878378  1.562792  70206.639429\n",
      "4996  5.878376  1.563073  70206.560647\n",
      "4997  5.878374  1.563353  70206.481864\n",
      "4998  5.878372  1.563634  70206.403082\n",
      "4999  5.878370  1.563915  70206.324300\n",
      "\n",
      "[5000 rows x 3 columns]\n"
     ]
    }
   ],
   "source": [
    "import pandas as pd\n",
    "dict = {'B1':[], 'B2':[], 'mse':[]}\n",
    "ind = []\n",
    "\n",
    "for i in range(5000):\n",
    "    B1 -= alpha * (2/n) * np.sum((B2 + B1 * x - y) * x)\n",
    "    B2 -= alpha * (2/n) * np.sum((B2 + B1 * x - y))\n",
    "    dict['B1'].append(B1)\n",
    "    dict['B2'].append(B2)\n",
    "    dict['mse'].append(mse(B1,B2))\n",
    "\n",
    "k = pd.DataFrame(dict)\n",
    "print(k)"
   ]
  },
  {
   "cell_type": "code",
   "execution_count": null,
   "metadata": {},
   "outputs": [],
   "source": []
  }
 ],
 "metadata": {
  "kernelspec": {
   "display_name": "Python 3",
   "language": "python",
   "name": "python3"
  },
  "language_info": {
   "codemirror_mode": {
    "name": "ipython",
    "version": 3
   },
   "file_extension": ".py",
   "mimetype": "text/x-python",
   "name": "python",
   "nbconvert_exporter": "python",
   "pygments_lexer": "ipython3",
   "version": "3.7.7"
  }
 },
 "nbformat": 4,
 "nbformat_minor": 4
}
